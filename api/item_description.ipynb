{
 "cells": [
  {
   "cell_type": "code",
   "execution_count": 4,
   "id": "initial_id",
   "metadata": {
    "collapsed": true,
    "ExecuteTime": {
     "end_time": "2023-11-20T21:02:50.790126Z",
     "start_time": "2023-11-20T21:02:50.417188Z"
    }
   },
   "outputs": [
    {
     "name": "stderr",
     "output_type": "stream",
     "text": [
      "/Library/Python/3.9/site-packages/urllib3/__init__.py:34: NotOpenSSLWarning: urllib3 v2 only supports OpenSSL 1.1.1+, currently the 'ssl' module is compiled with 'LibreSSL 2.8.3'. See: https://github.com/urllib3/urllib3/issues/3020\n",
      "  warnings.warn(\n"
     ]
    }
   ],
   "source": [
    "import datafetching, datetime, json\n",
    "import pandas as pd\n",
    "from google.cloud import storage"
   ]
  },
  {
   "cell_type": "code",
   "execution_count": 5,
   "outputs": [
    {
     "data": {
      "text/plain": "'disco-sky-405321'"
     },
     "execution_count": 5,
     "metadata": {},
     "output_type": "execute_result"
    }
   ],
   "source": [
    "import os\n",
    "os.environ.setdefault(\"GCLOUD_PROJECT\", \"disco-sky-405321\")"
   ],
   "metadata": {
    "collapsed": false,
    "ExecuteTime": {
     "end_time": "2023-11-20T21:02:51.529863Z",
     "start_time": "2023-11-20T21:02:51.524291Z"
    }
   },
   "id": "a5b0011ae7a1e701"
  },
  {
   "cell_type": "code",
   "execution_count": 6,
   "outputs": [],
   "source": [
    "# GCS\n",
    "client = storage.Client()\n",
    "bucket = client.get_bucket('gw2pricedata-dump')\n",
    "item_description_location = \"items/item_description/\""
   ],
   "metadata": {
    "collapsed": false,
    "ExecuteTime": {
     "end_time": "2023-11-20T21:02:52.789572Z",
     "start_time": "2023-11-20T21:02:52.266902Z"
    }
   },
   "id": "b3c918b364d7e910"
  },
  {
   "cell_type": "code",
   "execution_count": 7,
   "outputs": [],
   "source": [
    "blob = bucket.blob(item_description_location + \"item_description2023-11-18 00_45_27\")"
   ],
   "metadata": {
    "collapsed": false,
    "ExecuteTime": {
     "end_time": "2023-11-20T21:02:53.443673Z",
     "start_time": "2023-11-20T21:02:53.438263Z"
    }
   },
   "id": "16297eef55848d04"
  },
  {
   "cell_type": "code",
   "execution_count": 63,
   "outputs": [
    {
     "data": {
      "text/plain": "dict"
     },
     "execution_count": 63,
     "metadata": {},
     "output_type": "execute_result"
    }
   ],
   "source": [
    "data = json.loads(blob.download_as_string(client=None))"
   ],
   "metadata": {
    "collapsed": false,
    "ExecuteTime": {
     "end_time": "2023-11-20T21:36:34.303379Z",
     "start_time": "2023-11-20T21:36:29.081345Z"
    }
   },
   "id": "c38fb3fde0ecd088"
  },
  {
   "cell_type": "code",
   "execution_count": 63,
   "outputs": [],
   "source": [
    "item_desc_df = pd.DataFrame(data)\n",
    "item_desc_df"
   ],
   "metadata": {
    "collapsed": false,
    "ExecuteTime": {
     "end_time": "2023-11-20T21:36:34.303682Z",
     "start_time": "2023-11-20T21:36:34.301391Z"
    }
   },
   "id": "11bb3d4a159f8637"
  },
  {
   "cell_type": "code",
   "execution_count": 67,
   "outputs": [
    {
     "name": "stdout",
     "output_type": "stream",
     "text": [
      "<class 'pandas.core.frame.DataFrame'>\n",
      "RangeIndex: 65925 entries, 0 to 65924\n",
      "Data columns (total 50 columns):\n",
      " #   Column                                  Non-Null Count  Dtype  \n",
      "---  ------                                  --------------  -----  \n",
      " 0   name                                    65925 non-null  object \n",
      " 1   type                                    65925 non-null  object \n",
      " 2   level                                   65925 non-null  int64  \n",
      " 3   rarity                                  65925 non-null  object \n",
      " 4   vendor_value                            65925 non-null  int64  \n",
      " 5   default_skin                            35753 non-null  float64\n",
      " 6   game_types                              65925 non-null  object \n",
      " 7   flags                                   65925 non-null  object \n",
      " 8   restrictions                            65925 non-null  object \n",
      " 9   id                                      65925 non-null  int64  \n",
      " 10  chat_link                               65925 non-null  object \n",
      " 11  icon                                    65924 non-null  object \n",
      " 12  details.type                            59293 non-null  object \n",
      " 13  details.damage_type                     21718 non-null  object \n",
      " 14  details.min_power                       21718 non-null  float64\n",
      " 15  details.max_power                       21718 non-null  float64\n",
      " 16  details.defense                         35349 non-null  float64\n",
      " 17  details.infusion_slots                  38042 non-null  object \n",
      " 18  details.attribute_adjustment            39389 non-null  float64\n",
      " 19  details.secondary_suffix_item_id        38042 non-null  object \n",
      " 20  description                             48036 non-null  object \n",
      " 21  details.infix_upgrade.id                34936 non-null  float64\n",
      " 22  details.infix_upgrade.attributes        34936 non-null  object \n",
      " 23  details.weight_class                    13631 non-null  object \n",
      " 24  details.suffix_item_id                  10091 non-null  float64\n",
      " 25  details.stat_choices                    3838 non-null   object \n",
      " 26  details.duration_ms                     880 non-null    float64\n",
      " 27  details.apply_count                     880 non-null    float64\n",
      " 28  details.name                            880 non-null    object \n",
      " 29  details.icon                            880 non-null    object \n",
      " 30  details.description                     874 non-null    object \n",
      " 31  details.skins                           3165 non-null   object \n",
      " 32  details.no_sell_or_sort                 149 non-null    object \n",
      " 33  details.size                            149 non-null    float64\n",
      " 34  details.unlock_type                     5383 non-null   object \n",
      " 35  details.recipe_id                       4132 non-null   float64\n",
      " 36  details.charges                         18 non-null     float64\n",
      " 37  details.minipet_id                      830 non-null    float64\n",
      " 38  details.infix_upgrade.buff.skill_id     1287 non-null   float64\n",
      " 39  details.color_id                        616 non-null    float64\n",
      " 40  details.flags                           1347 non-null   object \n",
      " 41  details.infusion_upgrade_flags          1347 non-null   object \n",
      " 42  details.bonuses                         408 non-null    object \n",
      " 43  details.suffix                          1347 non-null   object \n",
      " 44  details.infix_upgrade.buff.description  1243 non-null   object \n",
      " 45  upgrades_into                           206 non-null    object \n",
      " 46  details.vendor_ids                      23 non-null     object \n",
      " 47  upgrades_from                           230 non-null    object \n",
      " 48  details.guild_upgrade_id                792 non-null    float64\n",
      " 49  details.extra_recipe_ids                236 non-null    object \n",
      "dtypes: float64(16), int64(3), object(31)\n",
      "memory usage: 25.1+ MB\n"
     ]
    }
   ],
   "source": [],
   "metadata": {
    "collapsed": false,
    "ExecuteTime": {
     "end_time": "2023-11-20T21:40:07.548509Z",
     "start_time": "2023-11-20T21:40:06.713219Z"
    }
   },
   "id": "cb5f951d3c1ab314"
  },
  {
   "cell_type": "code",
   "execution_count": 61,
   "outputs": [
    {
     "name": "stdout",
     "output_type": "stream",
     "text": [
      "<class 'pandas.core.frame.DataFrame'>\n",
      "Index: 65925 entries, 0 to 0\n",
      "Data columns (total 1 columns):\n",
      " #   Column  Non-Null Count  Dtype \n",
      "---  ------  --------------  ----- \n",
      " 0   data    65925 non-null  object\n",
      "dtypes: object(1)\n",
      "memory usage: 1.0+ MB\n"
     ]
    }
   ],
   "source": [],
   "metadata": {
    "collapsed": false,
    "ExecuteTime": {
     "end_time": "2023-11-20T21:31:12.169785Z",
     "start_time": "2023-11-20T21:31:12.165873Z"
    }
   },
   "id": "22e89d636c4c314f"
  }
 ],
 "metadata": {
  "kernelspec": {
   "display_name": "Python 3",
   "language": "python",
   "name": "python3"
  },
  "language_info": {
   "codemirror_mode": {
    "name": "ipython",
    "version": 2
   },
   "file_extension": ".py",
   "mimetype": "text/x-python",
   "name": "python",
   "nbconvert_exporter": "python",
   "pygments_lexer": "ipython2",
   "version": "2.7.6"
  }
 },
 "nbformat": 4,
 "nbformat_minor": 5
}
